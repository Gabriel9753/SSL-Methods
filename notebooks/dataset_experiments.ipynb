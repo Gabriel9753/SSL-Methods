{
 "cells": [
  {
   "cell_type": "code",
   "execution_count": null,
   "id": "968e3113",
   "metadata": {},
   "outputs": [],
   "source": [
    "%load_ext autoreload\n",
    "%autoreload 2"
   ]
  },
  {
   "cell_type": "code",
   "execution_count": null,
   "id": "1ad20284",
   "metadata": {},
   "outputs": [],
   "source": [
    "import sys\n",
    "import os\n",
    "sys.path.append(\"..\")\n",
    "\n",
    "from src.dataset_downloader.dataset_utils import get_dataset_dfs"
   ]
  },
  {
   "cell_type": "code",
   "execution_count": null,
   "id": "08d8eff5",
   "metadata": {},
   "outputs": [],
   "source": [
    "dfs = get_dataset_dfs(\"../data/mnist\")\n",
    "train_df = dfs[\"train\"]\n",
    "test_df = dfs[\"test\"]"
   ]
  },
  {
   "cell_type": "code",
   "execution_count": null,
   "id": "505ad6b8",
   "metadata": {},
   "outputs": [],
   "source": []
  },
  {
   "cell_type": "code",
   "execution_count": null,
   "id": "ea101a0b",
   "metadata": {},
   "outputs": [],
   "source": []
  }
 ],
 "metadata": {
  "kernelspec": {
   "display_name": ".venv",
   "language": "python",
   "name": "python3"
  },
  "language_info": {
   "codemirror_mode": {
    "name": "ipython",
    "version": 3
   },
   "file_extension": ".py",
   "mimetype": "text/x-python",
   "name": "python",
   "nbconvert_exporter": "python",
   "pygments_lexer": "ipython3",
   "version": "3.13.1"
  }
 },
 "nbformat": 4,
 "nbformat_minor": 5
}
