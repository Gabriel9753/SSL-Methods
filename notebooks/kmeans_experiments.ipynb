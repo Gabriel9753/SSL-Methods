{
 "cells": [
  {
   "cell_type": "code",
   "execution_count": null,
   "id": "2d29211f",
   "metadata": {},
   "outputs": [],
   "source": [
    "# %load_ext autoreload\n",
    "# %autoreload 2"
   ]
  },
  {
   "cell_type": "code",
   "execution_count": null,
   "id": "bf6a44f3",
   "metadata": {},
   "outputs": [],
   "source": [
    "import sys\n",
    "import os\n",
    "import pandas as pd\n",
    "import numpy as np\n",
    "import cv2\n",
    "from sklearn.cluster import KMeans\n",
    "from tqdm.notebook import tqdm\n",
    "import seaborn as sns\n",
    "import matplotlib.pyplot as plt\n",
    "\n",
    "sys.path.append(\"..\")\n",
    "\n",
    "from src.dataset_downloader.dataset_utils import get_dataset_dfs, load_images"
   ]
  },
  {
   "cell_type": "code",
   "execution_count": null,
   "id": "81e958e1",
   "metadata": {},
   "outputs": [],
   "source": [
    "def load_and_flatten_image(image_path, target_size=(28, 28)):\n",
    "    img = cv2.imread(image_path, cv2.IMREAD_GRAYSCALE)\n",
    "    if img is None:\n",
    "        raise ValueError(f\"Image at {image_path} could not be loaded.\")\n",
    "    return cv2.resize(img, target_size).flatten()\n",
    "\n",
    "dfs = get_dataset_dfs(\"../data/mnist\")\n",
    "train_df = dfs['train']\n",
    "train_df['class_name'] = train_df['class_name'].astype(int)\n",
    "test_df = dfs['test']\n",
    "test_df['class_name'] = test_df['class_name'].astype(int)"
   ]
  },
  {
   "cell_type": "code",
   "execution_count": null,
   "id": "a103df29",
   "metadata": {},
   "outputs": [],
   "source": [
    "train_images = load_images(train_df['image_path'].values, mode=\"grayscale\", target_size=(28, 28), max_workers=8)\n",
    "test_images = load_images(test_df['image_path'].values, mode=\"grayscale\", target_size=(28, 28), max_workers=8)\n",
    "train_image_vectors = [img.flatten() for img in train_images]\n",
    "test_image_vectors = [img.flatten() for img in test_images]\n",
    "train_image_matrix = np.array(train_image_vectors)\n",
    "test_image_matrix = np.array(test_image_vectors)\n",
    "\n",
    "# Perform KMeans clustering on the training data\n",
    "kmeans = KMeans(n_clusters=train_df['class_name'].nunique(), random_state=42, n_init=10, max_iter=300)\n",
    "kmeans.fit(train_image_matrix)\n",
    "\n",
    "# Get the cluster centers and labels\n",
    "cluster_centers = kmeans.cluster_centers_\n",
    "cluster_labels = kmeans.labels_"
   ]
  },
  {
   "cell_type": "code",
   "execution_count": null,
   "id": "2f5149ed",
   "metadata": {},
   "outputs": [],
   "source": [
    "from scipy.stats import mode\n",
    "from sklearn.metrics import accuracy_score, confusion_matrix\n",
    "import numpy as np\n",
    "\n",
    "# Map each cluster to the most frequent true label (Mehrheitsvoting)\n",
    "def map_clusters_to_labels(true_labels, cluster_labels):\n",
    "    label_mapping = {}\n",
    "    for cluster in np.unique(cluster_labels):\n",
    "        mask = (cluster_labels == cluster)\n",
    "        most_common = mode(true_labels[mask], keepdims=True).mode[0]\n",
    "        label_mapping[cluster] = most_common\n",
    "    return label_mapping\n",
    "\n",
    "# Wende das Mapping auf Trainingsdaten an\n",
    "cluster_to_label = map_clusters_to_labels(train_df['class_name'].values, kmeans.labels_)\n",
    "train_pred_labels = np.array([cluster_to_label[cluster] for cluster in kmeans.labels_])\n",
    "\n",
    "# Berechne Genauigkeit auf Trainingsdaten\n",
    "train_accuracy = accuracy_score(train_df['class_name'].values, train_pred_labels)\n",
    "print(f\"Trainingsgenauigkeit: {train_accuracy:.4f}\")\n",
    "\n",
    "# Wende KMeans auf Testdaten an (Labels werden vorhergesagt durch Zuordnung zum nächsten Cluster)\n",
    "test_cluster_labels = kmeans.predict(test_image_matrix)\n",
    "test_pred_labels = np.array([cluster_to_label[cluster] for cluster in test_cluster_labels])\n",
    "\n",
    "# Berechne Genauigkeit auf Testdaten\n",
    "test_accuracy = accuracy_score(test_df['class_name'].values, test_pred_labels)\n",
    "print(f\"Testgenauigkeit: {test_accuracy:.4f}\")\n",
    "\n",
    "# Optional: Konfusionsmatrix anzeigen\n",
    "print(\"Konfusionsmatrix (Testdaten):\")\n",
    "print(confusion_matrix(test_df['class_name'].values, test_pred_labels))\n"
   ]
  },
  {
   "cell_type": "code",
   "execution_count": null,
   "id": "fcffbcc8",
   "metadata": {},
   "outputs": [],
   "source": []
  },
  {
   "cell_type": "code",
   "execution_count": null,
   "id": "91588b6a",
   "metadata": {},
   "outputs": [],
   "source": []
  },
  {
   "cell_type": "code",
   "execution_count": null,
   "id": "39fd9011",
   "metadata": {},
   "outputs": [],
   "source": []
  },
  {
   "cell_type": "code",
   "execution_count": null,
   "id": "ad41f5de",
   "metadata": {},
   "outputs": [],
   "source": []
  },
  {
   "cell_type": "code",
   "execution_count": null,
   "id": "cb3da55e",
   "metadata": {},
   "outputs": [],
   "source": []
  },
  {
   "cell_type": "code",
   "execution_count": null,
   "id": "634f6cbd",
   "metadata": {},
   "outputs": [],
   "source": []
  }
 ],
 "metadata": {
  "kernelspec": {
   "display_name": ".venv",
   "language": "python",
   "name": "python3"
  },
  "language_info": {
   "codemirror_mode": {
    "name": "ipython",
    "version": 3
   },
   "file_extension": ".py",
   "mimetype": "text/x-python",
   "name": "python",
   "nbconvert_exporter": "python",
   "pygments_lexer": "ipython3",
   "version": "3.13.1"
  }
 },
 "nbformat": 4,
 "nbformat_minor": 5
}
